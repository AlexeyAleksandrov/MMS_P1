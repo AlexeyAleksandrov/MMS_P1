{
  "nbformat": 4,
  "nbformat_minor": 0,
  "metadata": {
    "colab": {
      "provenance": [],
      "authorship_tag": "ABX9TyMrJt/c3NpB0i2r6n7JtKAv",
      "include_colab_link": true
    },
    "kernelspec": {
      "name": "python3",
      "display_name": "Python 3"
    },
    "language_info": {
      "name": "python"
    }
  },
  "cells": [
    {
      "cell_type": "markdown",
      "metadata": {
        "id": "view-in-github",
        "colab_type": "text"
      },
      "source": [
        "<a href=\"https://colab.research.google.com/github/AlexeyAleksandrov/MMS_P1/blob/master/%D0%9C%D0%B5%D1%82%D0%BE%D0%B4%D1%8B_%D0%BC%D0%B0%D1%88%D0%B8%D0%BD%D0%BD%D0%BE%D0%B3%D0%BE_%D0%BE%D0%B1%D1%83%D1%87%D0%B5%D0%BD%D0%B8%D1%8F_%D1%871_%D0%B7%D0%B0%D0%B4%D0%B0%D0%BD%D0%B8%D0%B5_1.ipynb\" target=\"_parent\"><img src=\"https://colab.research.google.com/assets/colab-badge.svg\" alt=\"Open In Colab\"/></a>"
      ]
    },
    {
      "cell_type": "markdown",
      "source": [
        "#**Задание 1. Александров А.С. ЭФМО-01-22**"
      ],
      "metadata": {
        "id": "V8f-eteDWACI"
      }
    },
    {
      "cell_type": "markdown",
      "source": [
        "## **Постановка задачи**\n",
        "Используя методику оптимизационных задач – метод имитации отжига или метод роения частиц, выполнить поиск минимального значения функции f(x) = a*(x^3)-b*(x^2)-cx+d, если\n",
        "> a = 4, b = 3, c = 8, d = 20.\n",
        "\n",
        "\n",
        "\n"
      ],
      "metadata": {
        "id": "oOWTb5OeVH_J"
      }
    },
    {
      "cell_type": "code",
      "source": [
        "import random\n",
        "import math\n",
        "\n",
        "# Задаем функцию f(x) = 4*(x^3) - 3*(x^2) - 8*x + 20\n",
        "def f(x):\n",
        "    return 4 * (x ** 4) - 3 * (x ** 2) - 8 * x + 20\n",
        "\n",
        "# Задаем число частиц в рое и количество итераций\n",
        "N = 50\n",
        "max_iter = 1000\n",
        "\n",
        "# Задаем границы диапазона значений переменных x и y\n",
        "xmin = -5\n",
        "xmax = 5\n",
        "ymin = -5\n",
        "ymax = 5\n",
        "\n",
        "# Инициализируем начальные позиции частиц и скорости случайным образом\n",
        "particles = []\n",
        "velocities = []\n",
        "for i in range(N):\n",
        "    x = random.uniform(xmin, xmax)\n",
        "    y = random.uniform(ymin, ymax)\n",
        "    particles.append([x, y])\n",
        "    vx = random.uniform(xmin, xmax)\n",
        "    vy = random.uniform(ymin, ymax)\n",
        "    velocities.append([vx, vy])\n",
        "\n",
        "# Выбираем начальную наилучшую позицию\n",
        "best_position = particles[0]\n",
        "best_value = f(best_position[0])\n",
        "for particle in particles:\n",
        "    value = f(particle[0])\n",
        "    if value < best_value:\n",
        "        best_value = value\n",
        "        best_position = particle\n",
        "\n",
        "# Проводим итерации роения частиц\n",
        "for t in range(max_iter):\n",
        "    for i in range(N):\n",
        "        # Обновляем скорость частицы\n",
        "        new_vx = 0.6 * velocities[i][0] + 1.2 * random.uniform(0, 1) * (best_position[0] - particles[i][0]) + 1.2 * random.uniform(0, 1) * (best_position[0] - particles[i][0])\n",
        "        new_vy = 0.6 * velocities[i][1] + 1.2 * random.uniform(0, 1) * (best_position[1] - particles[i][1]) + 1.2 * random.uniform(0, 1) * (best_position[1] - particles[i][1])\n",
        "        velocities[i] = [new_vx, new_vy]\n",
        "\n",
        "        # Обновляем позицию частицы\n",
        "        particles[i][0] += velocities[i][0]\n",
        "        particles[i][1] += velocities[i][1]\n",
        "\n",
        "        # Оцениваем функцию на обновленной позиции\n",
        "        value = f(particles[i][0])\n",
        "\n",
        "        # Если новое значение функции лучше, чем текущее лучшее значение,\n",
        "        # обновляем лучшую позицию и значение\n",
        "        if value < best_value:\n",
        "            best_value = value\n",
        "            best_position = particles[i]\n",
        "\n",
        "    # Если достигнуто достаточно хорошее решение, заканчиваем итерации\n",
        "    if best_value < 1e-6:\n",
        "        break\n",
        "\n",
        "# Выводим результаты\n",
        "print(\"Минимальное значение функции: \", best_value)\n"
      ],
      "metadata": {
        "colab": {
          "base_uri": "https://localhost:8080/"
        },
        "id": "w3cVUx-YTyv3",
        "outputId": "60eada91-e3a0-4520-9fe0-31ad2da98e8a"
      },
      "execution_count": null,
      "outputs": [
        {
          "output_type": "stream",
          "name": "stdout",
          "text": [
            "Минимальное значение функции:  12.955545555753716\n"
          ]
        }
      ]
    }
  ]
}