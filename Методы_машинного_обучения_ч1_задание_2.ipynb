{
  "nbformat": 4,
  "nbformat_minor": 0,
  "metadata": {
    "colab": {
      "provenance": [],
      "authorship_tag": "ABX9TyO7bmDb+iIoExDXJAapnc+I",
      "include_colab_link": true
    },
    "kernelspec": {
      "name": "python3",
      "display_name": "Python 3"
    },
    "language_info": {
      "name": "python"
    }
  },
  "cells": [
    {
      "cell_type": "markdown",
      "metadata": {
        "id": "view-in-github",
        "colab_type": "text"
      },
      "source": [
        "<a href=\"https://colab.research.google.com/github/AlexeyAleksandrov/MMS_P1/blob/master/%D0%9C%D0%B5%D1%82%D0%BE%D0%B4%D1%8B_%D0%BC%D0%B0%D1%88%D0%B8%D0%BD%D0%BD%D0%BE%D0%B3%D0%BE_%D0%BE%D0%B1%D1%83%D1%87%D0%B5%D0%BD%D0%B8%D1%8F_%D1%871_%D0%B7%D0%B0%D0%B4%D0%B0%D0%BD%D0%B8%D0%B5_2.ipynb\" target=\"_parent\"><img src=\"https://colab.research.google.com/assets/colab-badge.svg\" alt=\"Open In Colab\"/></a>"
      ]
    },
    {
      "cell_type": "markdown",
      "source": [],
      "metadata": {
        "id": "4U3T1dDrWWqQ"
      }
    },
    {
      "cell_type": "code",
      "execution_count": 24,
      "metadata": {
        "colab": {
          "base_uri": "https://localhost:8080/"
        },
        "id": "ouOrNkMNSnFQ",
        "outputId": "cb195961-b9bc-4363-c289-0e2bb2e3c680"
      },
      "outputs": [
        {
          "output_type": "stream",
          "name": "stdout",
          "text": [
            "Минимальное значение функции f(x): 13.0744057004569\n"
          ]
        }
      ],
      "source": [
        "import numpy as np\n",
        "\n",
        "def f(x):\n",
        "    return 4*(x**4) - 3*(x**2) - 8*x + 20\n",
        "\n",
        "def genetic_algorithm(f, bounds, n_population=50, n_generations=10000, mutation_rate=0.5):\n",
        "    # задаем стартовые значения популяции\n",
        "    population = np.random.uniform(bounds[0], bounds[1], size=(n_population,))\n",
        "\n",
        "    for i in range(n_generations):\n",
        "        # считаем значения\n",
        "        fitness = np.array([f(x) for x in population])\n",
        "\n",
        "        # выбираем родителей\n",
        "        parent_indices = np.random.choice(n_population, size=n_population, replace=True, p=fitness/np.sum(fitness))\n",
        "        parents = population[parent_indices]\n",
        "\n",
        "        # переход\n",
        "        offspring = np.zeros_like(parents)\n",
        "        for j in range(n_population):\n",
        "            parent1_idx = np.random.randint(0, n_population)\n",
        "            parent2_idx = np.random.randint(0, n_population)\n",
        "            parent1 = parents[parent1_idx]\n",
        "            parent2 = parents[parent2_idx]\n",
        "            offspring[j] = (parent1 + parent2)/2\n",
        "\n",
        "        # мутация\n",
        "        mask = np.random.uniform(size=(n_population,)) < mutation_rate\n",
        "        offspring[mask] = np.random.uniform(bounds[0], bounds[1], size=np.sum(mask))\n",
        "\n",
        "        # обновляем популяцию\n",
        "        population = offspring\n",
        "\n",
        "    # копируем популяцию\n",
        "    fitness = np.array([f(x) for x in population])\n",
        "\n",
        "    # получаем лучшее значение\n",
        "    return population[np.argmin(fitness)]\n",
        "\n",
        "# запускаем алгоритм\n",
        "result = genetic_algorithm(f, bounds=(-5, 5))\n",
        "print(\"Минимальное значение функции f(x):\", f(result))"
      ]
    }
  ]
}